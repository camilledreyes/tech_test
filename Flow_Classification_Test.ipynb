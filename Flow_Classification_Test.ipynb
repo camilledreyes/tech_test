{
 "cells": [
  {
   "cell_type": "markdown",
   "metadata": {},
   "source": [
    "# Flow Classification Test\n",
    "\n",
    "DAS data along a horizontal section of a well completion in the North Sea. DAS data has been processed and a set of 7 features has been extracted. The file 'das.csv' contains the values of each feature at every point in time and depth. The reported depth is the measured depth (in the oil industry measured depth - commonly referred to as MD - is the length of the borehole) and it is expressed in meters. During the data acquisition process the condition of the well have been changed to induce different types of flow. Fifty experiments (identified by ‘exp_no’ column) with different settings have been carried out and for each experiment the flow type has been observed. The information regarding the flow type have been reported in the column ‘flow’ of the dataset.\n",
    "\n",
    "The transition period between experiments has been removed so every data point in an experiment must be considered belonging to the same conditions."
   ]
  },
  {
   "cell_type": "code",
   "execution_count": 1,
   "metadata": {},
   "outputs": [],
   "source": [
    "import pandas as pd\n",
    "import numpy as np\n",
    "import seaborn as sns\n",
    "import matplotlib.pyplot as plt\n",
    "\n",
    "import warnings\n",
    "warnings.filterwarnings(\"ignore\")"
   ]
  },
  {
   "cell_type": "markdown",
   "metadata": {},
   "source": [
    "# Read Data"
   ]
  },
  {
   "cell_type": "code",
   "execution_count": 2,
   "metadata": {},
   "outputs": [
    {
     "name": "stdout",
     "output_type": "stream",
     "text": [
      "(765102, 13)\n",
      "---------\n",
      "Unnamed: 0    0\n",
      "index         0\n",
      "exp_no        0\n",
      "time          0\n",
      "depth         0\n",
      "feature_0     0\n",
      "feature_1     0\n",
      "feature_2     0\n",
      "feature_3     0\n",
      "feature_4     0\n",
      "feature_5     0\n",
      "feature_6     0\n",
      "flow          0\n",
      "dtype: int64\n",
      "---------\n",
      "Unnamed: 0      int64\n",
      "index           int64\n",
      "exp_no          int64\n",
      "time           object\n",
      "depth         float64\n",
      "feature_0     float64\n",
      "feature_1     float64\n",
      "feature_2     float64\n",
      "feature_3     float64\n",
      "feature_4     float64\n",
      "feature_5     float64\n",
      "feature_6     float64\n",
      "flow           object\n",
      "dtype: object\n",
      "---------\n"
     ]
    },
    {
     "data": {
      "text/html": [
       "<div>\n",
       "<style scoped>\n",
       "    .dataframe tbody tr th:only-of-type {\n",
       "        vertical-align: middle;\n",
       "    }\n",
       "\n",
       "    .dataframe tbody tr th {\n",
       "        vertical-align: top;\n",
       "    }\n",
       "\n",
       "    .dataframe thead th {\n",
       "        text-align: right;\n",
       "    }\n",
       "</style>\n",
       "<table border=\"1\" class=\"dataframe\">\n",
       "  <thead>\n",
       "    <tr style=\"text-align: right;\">\n",
       "      <th></th>\n",
       "      <th>Unnamed: 0</th>\n",
       "      <th>index</th>\n",
       "      <th>exp_no</th>\n",
       "      <th>time</th>\n",
       "      <th>depth</th>\n",
       "      <th>feature_0</th>\n",
       "      <th>feature_1</th>\n",
       "      <th>feature_2</th>\n",
       "      <th>feature_3</th>\n",
       "      <th>feature_4</th>\n",
       "      <th>feature_5</th>\n",
       "      <th>feature_6</th>\n",
       "      <th>flow</th>\n",
       "    </tr>\n",
       "  </thead>\n",
       "  <tbody>\n",
       "    <tr>\n",
       "      <th>505272</th>\n",
       "      <td>505272</td>\n",
       "      <td>505272</td>\n",
       "      <td>39</td>\n",
       "      <td>2019-08-25 22:20:47.945</td>\n",
       "      <td>2781.808431</td>\n",
       "      <td>0.219691</td>\n",
       "      <td>-35.083157</td>\n",
       "      <td>-0.184411</td>\n",
       "      <td>-0.408604</td>\n",
       "      <td>0.255815</td>\n",
       "      <td>23.433541</td>\n",
       "      <td>0.788554</td>\n",
       "      <td>stratified</td>\n",
       "    </tr>\n",
       "    <tr>\n",
       "      <th>433653</th>\n",
       "      <td>433653</td>\n",
       "      <td>433653</td>\n",
       "      <td>1</td>\n",
       "      <td>2019-08-19 01:03:32.021</td>\n",
       "      <td>2793.038900</td>\n",
       "      <td>-0.577663</td>\n",
       "      <td>-16.137812</td>\n",
       "      <td>0.737242</td>\n",
       "      <td>-0.123226</td>\n",
       "      <td>-0.294135</td>\n",
       "      <td>294.463462</td>\n",
       "      <td>1.771568</td>\n",
       "      <td>slug</td>\n",
       "    </tr>\n",
       "    <tr>\n",
       "      <th>741994</th>\n",
       "      <td>741994</td>\n",
       "      <td>741994</td>\n",
       "      <td>16</td>\n",
       "      <td>2019-08-20 19:48:26.318</td>\n",
       "      <td>2773.640829</td>\n",
       "      <td>-0.535422</td>\n",
       "      <td>33.548507</td>\n",
       "      <td>-0.360180</td>\n",
       "      <td>0.819617</td>\n",
       "      <td>-0.146587</td>\n",
       "      <td>332.364099</td>\n",
       "      <td>-0.031392</td>\n",
       "      <td>single phase</td>\n",
       "    </tr>\n",
       "    <tr>\n",
       "      <th>208165</th>\n",
       "      <td>208165</td>\n",
       "      <td>208165</td>\n",
       "      <td>27</td>\n",
       "      <td>2019-08-21 22:58:11.091</td>\n",
       "      <td>2776.703695</td>\n",
       "      <td>-0.411176</td>\n",
       "      <td>-20.548661</td>\n",
       "      <td>0.442446</td>\n",
       "      <td>-0.181026</td>\n",
       "      <td>-0.750191</td>\n",
       "      <td>142.051531</td>\n",
       "      <td>1.516016</td>\n",
       "      <td>single phase</td>\n",
       "    </tr>\n",
       "    <tr>\n",
       "      <th>85929</th>\n",
       "      <td>85929</td>\n",
       "      <td>85929</td>\n",
       "      <td>32</td>\n",
       "      <td>2019-08-24 20:42:11.016</td>\n",
       "      <td>2793.038900</td>\n",
       "      <td>-0.594400</td>\n",
       "      <td>-34.010097</td>\n",
       "      <td>1.495774</td>\n",
       "      <td>-0.416837</td>\n",
       "      <td>-0.736778</td>\n",
       "      <td>234.921578</td>\n",
       "      <td>1.809356</td>\n",
       "      <td>single phase</td>\n",
       "    </tr>\n",
       "    <tr>\n",
       "      <th>497992</th>\n",
       "      <td>497992</td>\n",
       "      <td>497992</td>\n",
       "      <td>19</td>\n",
       "      <td>2019-08-20 20:34:07.318</td>\n",
       "      <td>2781.808431</td>\n",
       "      <td>-0.876620</td>\n",
       "      <td>90.734315</td>\n",
       "      <td>1.312953</td>\n",
       "      <td>1.298637</td>\n",
       "      <td>-0.575817</td>\n",
       "      <td>423.445026</td>\n",
       "      <td>1.179277</td>\n",
       "      <td>slug</td>\n",
       "    </tr>\n",
       "    <tr>\n",
       "      <th>496734</th>\n",
       "      <td>496734</td>\n",
       "      <td>496734</td>\n",
       "      <td>19</td>\n",
       "      <td>2019-08-20 20:33:19.318</td>\n",
       "      <td>2771.598898</td>\n",
       "      <td>-1.510897</td>\n",
       "      <td>57.367343</td>\n",
       "      <td>0.934766</td>\n",
       "      <td>0.952426</td>\n",
       "      <td>-1.608650</td>\n",
       "      <td>489.454990</td>\n",
       "      <td>1.443783</td>\n",
       "      <td>slug</td>\n",
       "    </tr>\n",
       "    <tr>\n",
       "      <th>379049</th>\n",
       "      <td>379049</td>\n",
       "      <td>379049</td>\n",
       "      <td>10</td>\n",
       "      <td>2019-08-19 22:41:26.188</td>\n",
       "      <td>2788.955099</td>\n",
       "      <td>-4.406674</td>\n",
       "      <td>22.572652</td>\n",
       "      <td>2.798820</td>\n",
       "      <td>0.998915</td>\n",
       "      <td>-7.966612</td>\n",
       "      <td>592.006515</td>\n",
       "      <td>-0.719057</td>\n",
       "      <td>slug</td>\n",
       "    </tr>\n",
       "    <tr>\n",
       "      <th>285060</th>\n",
       "      <td>285060</td>\n",
       "      <td>285060</td>\n",
       "      <td>26</td>\n",
       "      <td>2019-08-21 20:04:12.091</td>\n",
       "      <td>2789.976034</td>\n",
       "      <td>-0.154873</td>\n",
       "      <td>43.221349</td>\n",
       "      <td>-0.560457</td>\n",
       "      <td>0.559432</td>\n",
       "      <td>-0.012453</td>\n",
       "      <td>218.020870</td>\n",
       "      <td>0.705546</td>\n",
       "      <td>single phase</td>\n",
       "    </tr>\n",
       "    <tr>\n",
       "      <th>168462</th>\n",
       "      <td>168462</td>\n",
       "      <td>168462</td>\n",
       "      <td>27</td>\n",
       "      <td>2019-08-21 22:32:44.091</td>\n",
       "      <td>2775.682699</td>\n",
       "      <td>-0.532557</td>\n",
       "      <td>33.559778</td>\n",
       "      <td>0.255309</td>\n",
       "      <td>0.520021</td>\n",
       "      <td>-0.683124</td>\n",
       "      <td>290.217802</td>\n",
       "      <td>1.254258</td>\n",
       "      <td>single phase</td>\n",
       "    </tr>\n",
       "  </tbody>\n",
       "</table>\n",
       "</div>"
      ],
      "text/plain": [
       "        Unnamed: 0   index  exp_no                     time        depth  \\\n",
       "505272      505272  505272      39  2019-08-25 22:20:47.945  2781.808431   \n",
       "433653      433653  433653       1  2019-08-19 01:03:32.021  2793.038900   \n",
       "741994      741994  741994      16  2019-08-20 19:48:26.318  2773.640829   \n",
       "208165      208165  208165      27  2019-08-21 22:58:11.091  2776.703695   \n",
       "85929        85929   85929      32  2019-08-24 20:42:11.016  2793.038900   \n",
       "497992      497992  497992      19  2019-08-20 20:34:07.318  2781.808431   \n",
       "496734      496734  496734      19  2019-08-20 20:33:19.318  2771.598898   \n",
       "379049      379049  379049      10  2019-08-19 22:41:26.188  2788.955099   \n",
       "285060      285060  285060      26  2019-08-21 20:04:12.091  2789.976034   \n",
       "168462      168462  168462      27  2019-08-21 22:32:44.091  2775.682699   \n",
       "\n",
       "        feature_0  feature_1  feature_2  feature_3  feature_4   feature_5  \\\n",
       "505272   0.219691 -35.083157  -0.184411  -0.408604   0.255815   23.433541   \n",
       "433653  -0.577663 -16.137812   0.737242  -0.123226  -0.294135  294.463462   \n",
       "741994  -0.535422  33.548507  -0.360180   0.819617  -0.146587  332.364099   \n",
       "208165  -0.411176 -20.548661   0.442446  -0.181026  -0.750191  142.051531   \n",
       "85929   -0.594400 -34.010097   1.495774  -0.416837  -0.736778  234.921578   \n",
       "497992  -0.876620  90.734315   1.312953   1.298637  -0.575817  423.445026   \n",
       "496734  -1.510897  57.367343   0.934766   0.952426  -1.608650  489.454990   \n",
       "379049  -4.406674  22.572652   2.798820   0.998915  -7.966612  592.006515   \n",
       "285060  -0.154873  43.221349  -0.560457   0.559432  -0.012453  218.020870   \n",
       "168462  -0.532557  33.559778   0.255309   0.520021  -0.683124  290.217802   \n",
       "\n",
       "        feature_6          flow  \n",
       "505272   0.788554    stratified  \n",
       "433653   1.771568          slug  \n",
       "741994  -0.031392  single phase  \n",
       "208165   1.516016  single phase  \n",
       "85929    1.809356  single phase  \n",
       "497992   1.179277          slug  \n",
       "496734   1.443783          slug  \n",
       "379049  -0.719057          slug  \n",
       "285060   0.705546  single phase  \n",
       "168462   1.254258  single phase  "
      ]
     },
     "execution_count": 2,
     "metadata": {},
     "output_type": "execute_result"
    }
   ],
   "source": [
    "df = pd.read_csv('das.csv')\n",
    "print(df.shape)\n",
    "print('---------')\n",
    "print(df.isnull().sum())\n",
    "print('---------')\n",
    "print(df.dtypes)\n",
    "print('---------')\n",
    "df.sample(n=10)"
   ]
  },
  {
   "cell_type": "code",
   "execution_count": 3,
   "metadata": {},
   "outputs": [
    {
     "data": {
      "text/plain": [
       "0"
      ]
     },
     "execution_count": 3,
     "metadata": {},
     "output_type": "execute_result"
    }
   ],
   "source": [
    "df.duplicated().sum()"
   ]
  },
  {
   "cell_type": "code",
   "execution_count": 4,
   "metadata": {
    "collapsed": true,
    "jupyter": {
     "outputs_hidden": true
    },
    "tags": []
   },
   "outputs": [
    {
     "data": {
      "text/plain": [
       "27    73086\n",
       "33    47606\n",
       "31    41366\n",
       "45    40118\n",
       "28    38246\n",
       "34    36972\n",
       "32    35126\n",
       "46    30758\n",
       "35    27612\n",
       "37    26520\n",
       "25    24726\n",
       "44    22958\n",
       "39    21840\n",
       "26    21606\n",
       "38    20280\n",
       "42    18278\n",
       "47    18278\n",
       "49    16718\n",
       "40    12480\n",
       "43    12038\n",
       "36    10920\n",
       "19     9204\n",
       "3      8606\n",
       "10     8606\n",
       "4      8606\n",
       "1      7696\n",
       "2      7696\n",
       "0      7696\n",
       "23     7644\n",
       "22     7644\n",
       "21     7644\n",
       "20     7644\n",
       "9      7046\n",
       "5      7046\n",
       "6      7046\n",
       "7      7046\n",
       "8      7046\n",
       "18     4524\n",
       "16     4524\n",
       "41     4212\n",
       "29     3926\n",
       "30     3120\n",
       "12     2964\n",
       "13     2964\n",
       "14     2964\n",
       "15     2964\n",
       "17     2964\n",
       "11     2964\n",
       "24     2886\n",
       "48     2678\n",
       "Name: exp_no, dtype: int64"
      ]
     },
     "execution_count": 4,
     "metadata": {},
     "output_type": "execute_result"
    }
   ],
   "source": [
    "df['exp_no'].value_counts()"
   ]
  },
  {
   "cell_type": "markdown",
   "metadata": {},
   "source": [
    "- Imbalanced class"
   ]
  },
  {
   "cell_type": "code",
   "execution_count": 5,
   "metadata": {},
   "outputs": [
    {
     "data": {
      "image/png": "[encoded data removed]",
      "text/plain": [
       "<Figure size 864x576 with 1 Axes>"
      ]
     },
     "metadata": {
      "needs_background": "light"
     },
     "output_type": "display_data"
    }
   ],
   "source": [
    "plt.figure(figsize=(12,8))\n",
    "ax = sns.countplot(df['flow'])\n",
    "plt.xlabel('Flow', fontsize=14)\n",
    "plt.ylabel('Count', fontsize=14)\n",
    "ax.tick_params(axis='both', labelsize=14)\n",
    "plt.show()"
   ]
  },
  {
   "cell_type": "code",
   "execution_count": 6,
   "metadata": {},
   "outputs": [
    {
     "data": {
      "text/plain": [
       "single phase    318526\n",
       "stratified      303264\n",
       "slug            143312\n",
       "Name: flow, dtype: int64"
      ]
     },
     "execution_count": 6,
     "metadata": {},
     "output_type": "execute_result"
    }
   ],
   "source": [
    "df['flow'].value_counts()"
   ]
  },
  {
   "cell_type": "markdown",
   "metadata": {},
   "source": [
    "# Pre-processing\n",
    "- remove unused columns\n",
    "- ensure that time column is in datetime format"
   ]
  },
  {
   "cell_type": "code",
   "execution_count": 7,
   "metadata": {},
   "outputs": [
    {
     "data": {
      "text/html": [
       "<div>\n",
       "<style scoped>\n",
       "    .dataframe tbody tr th:only-of-type {\n",
       "        vertical-align: middle;\n",
       "    }\n",
       "\n",
       "    .dataframe tbody tr th {\n",
       "        vertical-align: top;\n",
       "    }\n",
       "\n",
       "    .dataframe thead th {\n",
       "        text-align: right;\n",
       "    }\n",
       "</style>\n",
       "<table border=\"1\" class=\"dataframe\">\n",
       "  <thead>\n",
       "    <tr style=\"text-align: right;\">\n",
       "      <th></th>\n",
       "      <th>exp_no</th>\n",
       "      <th>datetime</th>\n",
       "      <th>depth</th>\n",
       "      <th>feature_0</th>\n",
       "      <th>feature_1</th>\n",
       "      <th>feature_2</th>\n",
       "      <th>feature_3</th>\n",
       "      <th>feature_4</th>\n",
       "      <th>feature_5</th>\n",
       "      <th>feature_6</th>\n",
       "      <th>flow</th>\n",
       "      <th>date</th>\n",
       "      <th>time</th>\n",
       "    </tr>\n",
       "  </thead>\n",
       "  <tbody>\n",
       "    <tr>\n",
       "      <th>0</th>\n",
       "      <td>33</td>\n",
       "      <td>2019-08-25 00:37:29.016</td>\n",
       "      <td>2767.515096</td>\n",
       "      <td>0.753388</td>\n",
       "      <td>-35.668176</td>\n",
       "      <td>-0.941335</td>\n",
       "      <td>-0.439364</td>\n",
       "      <td>0.550911</td>\n",
       "      <td>-285.039686</td>\n",
       "      <td>-0.990560</td>\n",
       "      <td>single phase</td>\n",
       "      <td>2019-08-25</td>\n",
       "      <td>00:37:29</td>\n",
       "    </tr>\n",
       "    <tr>\n",
       "      <th>1</th>\n",
       "      <td>33</td>\n",
       "      <td>2019-08-25 00:37:29.016</td>\n",
       "      <td>2768.536031</td>\n",
       "      <td>0.696471</td>\n",
       "      <td>-35.657805</td>\n",
       "      <td>-1.056548</td>\n",
       "      <td>-0.435712</td>\n",
       "      <td>0.309469</td>\n",
       "      <td>-271.150071</td>\n",
       "      <td>-0.813306</td>\n",
       "      <td>single phase</td>\n",
       "      <td>2019-08-25</td>\n",
       "      <td>00:37:29</td>\n",
       "    </tr>\n",
       "    <tr>\n",
       "      <th>2</th>\n",
       "      <td>33</td>\n",
       "      <td>2019-08-25 00:37:29.016</td>\n",
       "      <td>2769.557027</td>\n",
       "      <td>0.721337</td>\n",
       "      <td>-35.602885</td>\n",
       "      <td>-0.988542</td>\n",
       "      <td>-0.430664</td>\n",
       "      <td>0.336296</td>\n",
       "      <td>-281.951759</td>\n",
       "      <td>-0.863733</td>\n",
       "      <td>single phase</td>\n",
       "      <td>2019-08-25</td>\n",
       "      <td>00:37:29</td>\n",
       "    </tr>\n",
       "    <tr>\n",
       "      <th>3</th>\n",
       "      <td>33</td>\n",
       "      <td>2019-08-25 00:37:29.016</td>\n",
       "      <td>2770.577963</td>\n",
       "      <td>0.847943</td>\n",
       "      <td>-35.613203</td>\n",
       "      <td>-0.784212</td>\n",
       "      <td>-0.439537</td>\n",
       "      <td>0.738699</td>\n",
       "      <td>-309.017401</td>\n",
       "      <td>-1.176452</td>\n",
       "      <td>single phase</td>\n",
       "      <td>2019-08-25</td>\n",
       "      <td>00:37:29</td>\n",
       "    </tr>\n",
       "    <tr>\n",
       "      <th>4</th>\n",
       "      <td>33</td>\n",
       "      <td>2019-08-25 00:37:29.016</td>\n",
       "      <td>2771.598898</td>\n",
       "      <td>0.792865</td>\n",
       "      <td>-35.394236</td>\n",
       "      <td>-0.687367</td>\n",
       "      <td>-0.424627</td>\n",
       "      <td>0.591151</td>\n",
       "      <td>-274.285990</td>\n",
       "      <td>-1.232788</td>\n",
       "      <td>single phase</td>\n",
       "      <td>2019-08-25</td>\n",
       "      <td>00:37:29</td>\n",
       "    </tr>\n",
       "  </tbody>\n",
       "</table>\n",
       "</div>"
      ],
      "text/plain": [
       "   exp_no                datetime        depth  feature_0  feature_1  \\\n",
       "0      33 2019-08-25 00:37:29.016  2767.515096   0.753388 -35.668176   \n",
       "1      33 2019-08-25 00:37:29.016  2768.536031   0.696471 -35.657805   \n",
       "2      33 2019-08-25 00:37:29.016  2769.557027   0.721337 -35.602885   \n",
       "3      33 2019-08-25 00:37:29.016  2770.577963   0.847943 -35.613203   \n",
       "4      33 2019-08-25 00:37:29.016  2771.598898   0.792865 -35.394236   \n",
       "\n",
       "   feature_2  feature_3  feature_4   feature_5  feature_6          flow  \\\n",
       "0  -0.941335  -0.439364   0.550911 -285.039686  -0.990560  single phase   \n",
       "1  -1.056548  -0.435712   0.309469 -271.150071  -0.813306  single phase   \n",
       "2  -0.988542  -0.430664   0.336296 -281.951759  -0.863733  single phase   \n",
       "3  -0.784212  -0.439537   0.738699 -309.017401  -1.176452  single phase   \n",
       "4  -0.687367  -0.424627   0.591151 -274.285990  -1.232788  single phase   \n",
       "\n",
       "         date      time  \n",
       "0  2019-08-25  00:37:29  \n",
       "1  2019-08-25  00:37:29  \n",
       "2  2019-08-25  00:37:29  \n",
       "3  2019-08-25  00:37:29  \n",
       "4  2019-08-25  00:37:29  "
      ]
     },
     "execution_count": 7,
     "metadata": {},
     "output_type": "execute_result"
    }
   ],
   "source": [
    "new_df = df.copy()\n",
    "new_df.drop(columns=['Unnamed: 0', 'index'], inplace=True)\n",
    "new_df.rename(columns={'time':'datetime'}, inplace=True)\n",
    "new_df['datetime'] = pd.to_datetime(new_df['datetime'])\n",
    "new_df['date'] = new_df['datetime'].dt.date\n",
    "new_df['time'] = new_df['datetime'].dt.strftime('%H:%M:%S')\n",
    "new_df['flow'] = new_df['flow'].astype(str)\n",
    "new_df.head()"
   ]
  },
  {
   "cell_type": "code",
   "execution_count": 8,
   "metadata": {},
   "outputs": [
    {
     "data": {
      "text/html": [
       "<div>\n",
       "<style scoped>\n",
       "    .dataframe tbody tr th:only-of-type {\n",
       "        vertical-align: middle;\n",
       "    }\n",
       "\n",
       "    .dataframe tbody tr th {\n",
       "        vertical-align: top;\n",
       "    }\n",
       "\n",
       "    .dataframe thead th {\n",
       "        text-align: right;\n",
       "    }\n",
       "</style>\n",
       "<table border=\"1\" class=\"dataframe\">\n",
       "  <thead>\n",
       "    <tr style=\"text-align: right;\">\n",
       "      <th></th>\n",
       "      <th>exp_no</th>\n",
       "      <th>depth</th>\n",
       "      <th>feature_0</th>\n",
       "      <th>feature_1</th>\n",
       "      <th>feature_2</th>\n",
       "      <th>feature_3</th>\n",
       "      <th>feature_4</th>\n",
       "      <th>feature_5</th>\n",
       "      <th>feature_6</th>\n",
       "    </tr>\n",
       "  </thead>\n",
       "  <tbody>\n",
       "    <tr>\n",
       "      <th>count</th>\n",
       "      <td>765102.000000</td>\n",
       "      <td>765102.000000</td>\n",
       "      <td>765102.000000</td>\n",
       "      <td>765102.000000</td>\n",
       "      <td>765102.000000</td>\n",
       "      <td>765102.000000</td>\n",
       "      <td>765102.000000</td>\n",
       "      <td>765102.000000</td>\n",
       "      <td>765102.000000</td>\n",
       "    </tr>\n",
       "    <tr>\n",
       "      <th>mean</th>\n",
       "      <td>30.502973</td>\n",
       "      <td>2780.277010</td>\n",
       "      <td>-0.251228</td>\n",
       "      <td>27.346806</td>\n",
       "      <td>0.204380</td>\n",
       "      <td>0.307977</td>\n",
       "      <td>-0.231674</td>\n",
       "      <td>146.359021</td>\n",
       "      <td>0.479618</td>\n",
       "    </tr>\n",
       "    <tr>\n",
       "      <th>std</th>\n",
       "      <td>12.084756</td>\n",
       "      <td>7.657149</td>\n",
       "      <td>0.913554</td>\n",
       "      <td>143.034534</td>\n",
       "      <td>1.128824</td>\n",
       "      <td>1.151338</td>\n",
       "      <td>1.114241</td>\n",
       "      <td>252.772806</td>\n",
       "      <td>0.766949</td>\n",
       "    </tr>\n",
       "    <tr>\n",
       "      <th>min</th>\n",
       "      <td>0.000000</td>\n",
       "      <td>2767.515096</td>\n",
       "      <td>-5.240913</td>\n",
       "      <td>-36.342624</td>\n",
       "      <td>-1.237100</td>\n",
       "      <td>-0.533154</td>\n",
       "      <td>-12.097946</td>\n",
       "      <td>-350.118802</td>\n",
       "      <td>-16.340870</td>\n",
       "    </tr>\n",
       "    <tr>\n",
       "      <th>25%</th>\n",
       "      <td>26.000000</td>\n",
       "      <td>2773.640829</td>\n",
       "      <td>-0.474915</td>\n",
       "      <td>-34.104639</td>\n",
       "      <td>-0.494715</td>\n",
       "      <td>-0.380944</td>\n",
       "      <td>-0.428269</td>\n",
       "      <td>-35.826092</td>\n",
       "      <td>-0.115074</td>\n",
       "    </tr>\n",
       "    <tr>\n",
       "      <th>50%</th>\n",
       "      <td>32.000000</td>\n",
       "      <td>2780.277029</td>\n",
       "      <td>0.032668</td>\n",
       "      <td>-24.722252</td>\n",
       "      <td>-0.117320</td>\n",
       "      <td>-0.187545</td>\n",
       "      <td>0.135095</td>\n",
       "      <td>92.997483</td>\n",
       "      <td>0.477938</td>\n",
       "    </tr>\n",
       "    <tr>\n",
       "      <th>75%</th>\n",
       "      <td>39.000000</td>\n",
       "      <td>2786.913229</td>\n",
       "      <td>0.357514</td>\n",
       "      <td>19.166306</td>\n",
       "      <td>0.565429</td>\n",
       "      <td>0.486948</td>\n",
       "      <td>0.416776</td>\n",
       "      <td>283.252883</td>\n",
       "      <td>1.130449</td>\n",
       "    </tr>\n",
       "    <tr>\n",
       "      <th>max</th>\n",
       "      <td>49.000000</td>\n",
       "      <td>2793.038900</td>\n",
       "      <td>0.968718</td>\n",
       "      <td>3810.892105</td>\n",
       "      <td>24.507896</td>\n",
       "      <td>15.088567</td>\n",
       "      <td>2.308069</td>\n",
       "      <td>1109.914943</td>\n",
       "      <td>2.695703</td>\n",
       "    </tr>\n",
       "  </tbody>\n",
       "</table>\n",
       "</div>"
      ],
      "text/plain": [
       "              exp_no          depth      feature_0      feature_1  \\\n",
       "count  765102.000000  765102.000000  765102.000000  765102.000000   \n",
       "mean       30.502973    2780.277010      -0.251228      27.346806   \n",
       "std        12.084756       7.657149       0.913554     143.034534   \n",
       "min         0.000000    2767.515096      -5.240913     -36.342624   \n",
       "25%        26.000000    2773.640829      -0.474915     -34.104639   \n",
       "50%        32.000000    2780.277029       0.032668     -24.722252   \n",
       "75%        39.000000    2786.913229       0.357514      19.166306   \n",
       "max        49.000000    2793.038900       0.968718    3810.892105   \n",
       "\n",
       "           feature_2      feature_3      feature_4      feature_5  \\\n",
       "count  765102.000000  765102.000000  765102.000000  765102.000000   \n",
       "mean        0.204380       0.307977      -0.231674     146.359021   \n",
       "std         1.128824       1.151338       1.114241     252.772806   \n",
       "min        -1.237100      -0.533154     -12.097946    -350.118802   \n",
       "25%        -0.494715      -0.380944      -0.428269     -35.826092   \n",
       "50%        -0.117320      -0.187545       0.135095      92.997483   \n",
       "75%         0.565429       0.486948       0.416776     283.252883   \n",
       "max        24.507896      15.088567       2.308069    1109.914943   \n",
       "\n",
       "           feature_6  \n",
       "count  765102.000000  \n",
       "mean        0.479618  \n",
       "std         0.766949  \n",
       "min       -16.340870  \n",
       "25%        -0.115074  \n",
       "50%         0.477938  \n",
       "75%         1.130449  \n",
       "max         2.695703  "
      ]
     },
     "execution_count": 8,
     "metadata": {},
     "output_type": "execute_result"
    }
   ],
   "source": [
    "new_df.describe()"
   ]
  },
  {
   "cell_type": "markdown",
   "metadata": {},
   "source": [
    "- Time period: August 19-26 2019\n",
    "- Missing August 22-23 data"
   ]
  },
  {
   "cell_type": "code",
   "execution_count": 9,
   "metadata": {},
   "outputs": [
    {
     "data": {
      "text/plain": [
       "2019-08-19     84136\n",
       "2019-08-20     66612\n",
       "2019-08-21    122304\n",
       "2019-08-24    121784\n",
       "2019-08-25    208442\n",
       "2019-08-26    161824\n",
       "Name: date, dtype: int64"
      ]
     },
     "execution_count": 9,
     "metadata": {},
     "output_type": "execute_result"
    }
   ],
   "source": [
    "new_df['date'].value_counts().sort_index(ascending=True)"
   ]
  },
  {
   "cell_type": "markdown",
   "metadata": {},
   "source": [
    "# Questions"
   ]
  },
  {
   "cell_type": "markdown",
   "metadata": {},
   "source": [
    "## 1.\n",
    "### 1a.) How long is the horizontal section?\n",
    "- approximately 2,793 metres"
   ]
  },
  {
   "cell_type": "code",
   "execution_count": 10,
   "metadata": {},
   "outputs": [
    {
     "data": {
      "text/plain": [
       "2793.0389000039063"
      ]
     },
     "execution_count": 10,
     "metadata": {},
     "output_type": "execute_result"
    }
   ],
   "source": [
    "new_df['depth'].max()"
   ]
  },
  {
   "cell_type": "markdown",
   "metadata": {},
   "source": [
    "### 1b.) What types of flow have been observed?"
   ]
  },
  {
   "cell_type": "code",
   "execution_count": 11,
   "metadata": {},
   "outputs": [
    {
     "data": {
      "text/plain": [
       "['single phase', 'slug', 'stratified']"
      ]
     },
     "execution_count": 11,
     "metadata": {},
     "output_type": "execute_result"
    }
   ],
   "source": [
    "new_df['flow'].unique().tolist()"
   ]
  },
  {
   "cell_type": "markdown",
   "metadata": {},
   "source": [
    "### 1c.)How long is the longest experiment?\n",
    "- 73,086"
   ]
  },
  {
   "cell_type": "code",
   "execution_count": 12,
   "metadata": {
    "tags": []
   },
   "outputs": [
    {
     "data": {
      "text/html": [
       "<div>\n",
       "<style scoped>\n",
       "    .dataframe tbody tr th:only-of-type {\n",
       "        vertical-align: middle;\n",
       "    }\n",
       "\n",
       "    .dataframe tbody tr th {\n",
       "        vertical-align: top;\n",
       "    }\n",
       "\n",
       "    .dataframe thead th {\n",
       "        text-align: right;\n",
       "    }\n",
       "</style>\n",
       "<table border=\"1\" class=\"dataframe\">\n",
       "  <thead>\n",
       "    <tr style=\"text-align: right;\">\n",
       "      <th></th>\n",
       "      <th>date</th>\n",
       "      <th>exp_no</th>\n",
       "    </tr>\n",
       "  </thead>\n",
       "  <tbody>\n",
       "    <tr>\n",
       "      <th>27</th>\n",
       "      <td>2019-08-21</td>\n",
       "      <td>73086</td>\n",
       "    </tr>\n",
       "    <tr>\n",
       "      <th>33</th>\n",
       "      <td>2019-08-25</td>\n",
       "      <td>47606</td>\n",
       "    </tr>\n",
       "    <tr>\n",
       "      <th>31</th>\n",
       "      <td>2019-08-24</td>\n",
       "      <td>41366</td>\n",
       "    </tr>\n",
       "    <tr>\n",
       "      <th>45</th>\n",
       "      <td>2019-08-26</td>\n",
       "      <td>40118</td>\n",
       "    </tr>\n",
       "    <tr>\n",
       "      <th>28</th>\n",
       "      <td>2019-08-24</td>\n",
       "      <td>38246</td>\n",
       "    </tr>\n",
       "  </tbody>\n",
       "</table>\n",
       "</div>"
      ],
      "text/plain": [
       "          date  exp_no\n",
       "27  2019-08-21   73086\n",
       "33  2019-08-25   47606\n",
       "31  2019-08-24   41366\n",
       "45  2019-08-26   40118\n",
       "28  2019-08-24   38246"
      ]
     },
     "execution_count": 12,
     "metadata": {},
     "output_type": "execute_result"
    }
   ],
   "source": [
    "new_df.groupby(['exp_no', 'date'], as_index=False)['exp_no'].count().sort_values(by='exp_no', ascending=False).head()"
   ]
  },
  {
   "cell_type": "markdown",
   "metadata": {},
   "source": [
    "### 1d.) What is its experiment number?\n",
    "- 27"
   ]
  },
  {
   "cell_type": "code",
   "execution_count": 13,
   "metadata": {},
   "outputs": [
    {
     "data": {
      "text/plain": [
       "2019-08-21    73086\n",
       "Name: date, dtype: int64"
      ]
     },
     "execution_count": 13,
     "metadata": {},
     "output_type": "execute_result"
    }
   ],
   "source": [
    "new_df[new_df['exp_no'] == 27]['date'].value_counts()"
   ]
  },
  {
   "cell_type": "markdown",
   "metadata": {},
   "source": [
    "## 2. \n",
    "### 2a.)Visualize a heatmap that shows the value of feature_3 for each point in time and depth."
   ]
  },
  {
   "cell_type": "code",
   "execution_count": 14,
   "metadata": {},
   "outputs": [
    {
     "data": {
      "text/html": [
       "<div>\n",
       "<style scoped>\n",
       "    .dataframe tbody tr th:only-of-type {\n",
       "        vertical-align: middle;\n",
       "    }\n",
       "\n",
       "    .dataframe tbody tr th {\n",
       "        vertical-align: top;\n",
       "    }\n",
       "\n",
       "    .dataframe thead th {\n",
       "        text-align: right;\n",
       "    }\n",
       "</style>\n",
       "<table border=\"1\" class=\"dataframe\">\n",
       "  <thead>\n",
       "    <tr style=\"text-align: right;\">\n",
       "      <th></th>\n",
       "      <th>datetime</th>\n",
       "      <th>date</th>\n",
       "      <th>time</th>\n",
       "      <th>depth</th>\n",
       "      <th>feature_3</th>\n",
       "    </tr>\n",
       "  </thead>\n",
       "  <tbody>\n",
       "    <tr>\n",
       "      <th>0</th>\n",
       "      <td>2019-08-25 00:37:29.016</td>\n",
       "      <td>2019-08-25</td>\n",
       "      <td>00:37:29</td>\n",
       "      <td>2767.52</td>\n",
       "      <td>-0.439364</td>\n",
       "    </tr>\n",
       "    <tr>\n",
       "      <th>1</th>\n",
       "      <td>2019-08-25 00:37:29.016</td>\n",
       "      <td>2019-08-25</td>\n",
       "      <td>00:37:29</td>\n",
       "      <td>2768.54</td>\n",
       "      <td>-0.435712</td>\n",
       "    </tr>\n",
       "    <tr>\n",
       "      <th>2</th>\n",
       "      <td>2019-08-25 00:37:29.016</td>\n",
       "      <td>2019-08-25</td>\n",
       "      <td>00:37:29</td>\n",
       "      <td>2769.56</td>\n",
       "      <td>-0.430664</td>\n",
       "    </tr>\n",
       "    <tr>\n",
       "      <th>3</th>\n",
       "      <td>2019-08-25 00:37:29.016</td>\n",
       "      <td>2019-08-25</td>\n",
       "      <td>00:37:29</td>\n",
       "      <td>2770.58</td>\n",
       "      <td>-0.439537</td>\n",
       "    </tr>\n",
       "    <tr>\n",
       "      <th>4</th>\n",
       "      <td>2019-08-25 00:37:29.016</td>\n",
       "      <td>2019-08-25</td>\n",
       "      <td>00:37:29</td>\n",
       "      <td>2771.60</td>\n",
       "      <td>-0.424627</td>\n",
       "    </tr>\n",
       "  </tbody>\n",
       "</table>\n",
       "</div>"
      ],
      "text/plain": [
       "                 datetime        date      time    depth  feature_3\n",
       "0 2019-08-25 00:37:29.016  2019-08-25  00:37:29  2767.52  -0.439364\n",
       "1 2019-08-25 00:37:29.016  2019-08-25  00:37:29  2768.54  -0.435712\n",
       "2 2019-08-25 00:37:29.016  2019-08-25  00:37:29  2769.56  -0.430664\n",
       "3 2019-08-25 00:37:29.016  2019-08-25  00:37:29  2770.58  -0.439537\n",
       "4 2019-08-25 00:37:29.016  2019-08-25  00:37:29  2771.60  -0.424627"
      ]
     },
     "execution_count": 14,
     "metadata": {},
     "output_type": "execute_result"
    }
   ],
   "source": [
    "feature_3 = new_df[['datetime', 'date', 'time', 'depth', 'feature_3']]\n",
    "feature_3['depth'] = round(feature_3['depth'], 2) \n",
    "feature_3.head()"
   ]
  },
  {
   "cell_type": "code",
   "execution_count": 15,
   "metadata": {},
   "outputs": [
    {
     "data": {
      "text/html": [
       "<div>\n",
       "<style scoped>\n",
       "    .dataframe tbody tr th:only-of-type {\n",
       "        vertical-align: middle;\n",
       "    }\n",
       "\n",
       "    .dataframe tbody tr th {\n",
       "        vertical-align: top;\n",
       "    }\n",
       "\n",
       "    .dataframe thead th {\n",
       "        text-align: right;\n",
       "    }\n",
       "</style>\n",
       "<table border=\"1\" class=\"dataframe\">\n",
       "  <thead>\n",
       "    <tr style=\"text-align: right;\">\n",
       "      <th>date</th>\n",
       "      <th>2019-08-19</th>\n",
       "      <th>2019-08-20</th>\n",
       "      <th>2019-08-21</th>\n",
       "      <th>2019-08-24</th>\n",
       "      <th>2019-08-25</th>\n",
       "      <th>2019-08-26</th>\n",
       "    </tr>\n",
       "    <tr>\n",
       "      <th>depth</th>\n",
       "      <th></th>\n",
       "      <th></th>\n",
       "      <th></th>\n",
       "      <th></th>\n",
       "      <th></th>\n",
       "      <th></th>\n",
       "    </tr>\n",
       "  </thead>\n",
       "  <tbody>\n",
       "    <tr>\n",
       "      <th>2767.52</th>\n",
       "      <td>0.580815</td>\n",
       "      <td>0.410029</td>\n",
       "      <td>0.111850</td>\n",
       "      <td>-0.407144</td>\n",
       "      <td>0.066973</td>\n",
       "      <td>-0.167960</td>\n",
       "    </tr>\n",
       "    <tr>\n",
       "      <th>2768.54</th>\n",
       "      <td>0.143785</td>\n",
       "      <td>0.090997</td>\n",
       "      <td>-0.040582</td>\n",
       "      <td>-0.391129</td>\n",
       "      <td>0.173767</td>\n",
       "      <td>1.203889</td>\n",
       "    </tr>\n",
       "    <tr>\n",
       "      <th>2769.56</th>\n",
       "      <td>0.031712</td>\n",
       "      <td>0.027089</td>\n",
       "      <td>0.072782</td>\n",
       "      <td>-0.395916</td>\n",
       "      <td>0.204545</td>\n",
       "      <td>1.952789</td>\n",
       "    </tr>\n",
       "    <tr>\n",
       "      <th>2770.58</th>\n",
       "      <td>0.664510</td>\n",
       "      <td>0.535255</td>\n",
       "      <td>-0.145273</td>\n",
       "      <td>-0.428279</td>\n",
       "      <td>0.010290</td>\n",
       "      <td>1.967555</td>\n",
       "    </tr>\n",
       "    <tr>\n",
       "      <th>2771.60</th>\n",
       "      <td>1.538402</td>\n",
       "      <td>1.321653</td>\n",
       "      <td>-0.099820</td>\n",
       "      <td>-0.235211</td>\n",
       "      <td>-0.083843</td>\n",
       "      <td>0.591807</td>\n",
       "    </tr>\n",
       "  </tbody>\n",
       "</table>\n",
       "</div>"
      ],
      "text/plain": [
       "date     2019-08-19  2019-08-20  2019-08-21  2019-08-24  2019-08-25  \\\n",
       "depth                                                                 \n",
       "2767.52    0.580815    0.410029    0.111850   -0.407144    0.066973   \n",
       "2768.54    0.143785    0.090997   -0.040582   -0.391129    0.173767   \n",
       "2769.56    0.031712    0.027089    0.072782   -0.395916    0.204545   \n",
       "2770.58    0.664510    0.535255   -0.145273   -0.428279    0.010290   \n",
       "2771.60    1.538402    1.321653   -0.099820   -0.235211   -0.083843   \n",
       "\n",
       "date     2019-08-26  \n",
       "depth                \n",
       "2767.52   -0.167960  \n",
       "2768.54    1.203889  \n",
       "2769.56    1.952789  \n",
       "2770.58    1.967555  \n",
       "2771.60    0.591807  "
      ]
     },
     "execution_count": 15,
     "metadata": {},
     "output_type": "execute_result"
    }
   ],
   "source": [
    "pivot = feature_3.pivot_table(index='depth', columns='date', values='feature_3')\n",
    "pivot.head()"
   ]
  },
  {
   "cell_type": "code",
   "execution_count": 16,
   "metadata": {},
   "outputs": [
    {
     "data": {
      "image/png": "[encoded data removed]",
      "text/plain": [
       "<Figure size 864x576 with 2 Axes>"
      ]
     },
     "metadata": {
      "needs_background": "light"
     },
     "output_type": "display_data"
    }
   ],
   "source": [
    "plt.figure(figsize=(12,8))\n",
    "ax = sns.heatmap(pivot, annot=True)\n",
    "plt.xticks(rotation=90)\n",
    "plt.xlabel('Date', fontsize=14)\n",
    "plt.ylabel('Depth', fontsize=14)\n",
    "plt.title('Daily average depth of feature_3', fontsize=15)\n",
    "ax.tick_params(axis='both', labelsize=14)\n",
    "plt.show()"
   ]
  },
  {
   "cell_type": "markdown",
   "metadata": {},
   "source": [
    "### 2b.) Visualize feature distributions."
   ]
  },
  {
   "cell_type": "code",
   "execution_count": 17,
   "metadata": {},
   "outputs": [
    {
     "data": {
      "image/png": "[encoded data removed]",
      "text/plain": [
       "<Figure size 864x576 with 1 Axes>"
      ]
     },
     "metadata": {
      "needs_background": "light"
     },
     "output_type": "display_data"
    }
   ],
   "source": [
    "plt.figure(figsize=(12,8))\n",
    "ax = sns.distplot(feature_3['feature_3'])\n",
    "plt.xlabel('feature_3', fontsize=14)\n",
    "plt.ylabel('Density', fontsize=14)\n",
    "ax.tick_params(axis='both', labelsize=14)\n",
    "plt.show()"
   ]
  },
  {
   "cell_type": "markdown",
   "metadata": {},
   "source": [
    "## 3. Build a flow type classifier\n",
    "- multi-class classification\n",
    "- one-vs-rest, fits one classifier per class.  Split the multi-class dataset into a multi binary classification problems. A binary classifier is trained on each binary classification problem and predictions are made using the model that is the most confident.\n",
    "- e.g single phase vs (slug, stratified), slug vs (single phase, stratified), stratified vs (single phase, slug)"
   ]
  },
  {
   "cell_type": "code",
   "execution_count": 18,
   "metadata": {},
   "outputs": [],
   "source": [
    "from sklearn.utils import resample\n",
    "from sklearn.model_selection import train_test_split\n",
    "from sklearn.preprocessing import StandardScaler\n",
    "\n",
    "from sklearn.multiclass import OneVsRestClassifier\n",
    "from sklearn.linear_model import LogisticRegression\n",
    "from sklearn.svm import LinearSVC\n",
    "from sklearn.ensemble import RandomForestClassifier\n",
    "\n",
    "from sklearn.metrics import confusion_matrix, ConfusionMatrixDisplay\n",
    "from sklearn.metrics import classification_report, matthews_corrcoef"
   ]
  },
  {
   "cell_type": "markdown",
   "metadata": {},
   "source": [
    "### Check for feature correlation"
   ]
  },
  {
   "cell_type": "code",
   "execution_count": 19,
   "metadata": {},
   "outputs": [
    {
     "data": {
      "image/png": "[encoded data removed]",
      "text/plain": [
       "<Figure size 864x576 with 2 Axes>"
      ]
     },
     "metadata": {
      "needs_background": "light"
     },
     "output_type": "display_data"
    }
   ],
   "source": [
    "plt.figure(figsize=(12,8))\n",
    "mask = np.triu(np.ones_like(new_df.corr(), dtype=np.bool))\n",
    "ax = sns.heatmap(new_df.corr(), mask=mask, annot=True)\n",
    "plt.yticks(rotation=360)\n",
    "plt.xticks(rotation=90)\n",
    "ax.tick_params(axis='both', labelsize=14)\n",
    "plt.show()"
   ]
  },
  {
   "cell_type": "code",
   "execution_count": 20,
   "metadata": {},
   "outputs": [
    {
     "name": "stdout",
     "output_type": "stream",
     "text": [
      "(765102, 9)\n",
      "(765102,)\n"
     ]
    }
   ],
   "source": [
    "X = new_df[['exp_no', 'depth', 'feature_0', 'feature_1', 'feature_2', 'feature_3', 'feature_4', 'feature_5', 'feature_6']]\n",
    "print(X.shape)\n",
    "y = new_df['flow']\n",
    "print(y.shape)"
   ]
  },
  {
   "cell_type": "markdown",
   "metadata": {},
   "source": [
    "### Balance data\n",
    "- downsample (decrease majority class)"
   ]
  },
  {
   "cell_type": "code",
   "execution_count": 21,
   "metadata": {},
   "outputs": [],
   "source": [
    "from imblearn.under_sampling import RandomUnderSampler\n",
    "rus = RandomUnderSampler(random_state=0)\n",
    "rus.fit(X, y)\n",
    "X_resampled, y_resampled = rus.fit_resample(X, y)"
   ]
  },
  {
   "cell_type": "code",
   "execution_count": 22,
   "metadata": {},
   "outputs": [
    {
     "data": {
      "text/plain": [
       "stratified      143312\n",
       "slug            143312\n",
       "single phase    143312\n",
       "Name: flow, dtype: int64"
      ]
     },
     "execution_count": 22,
     "metadata": {},
     "output_type": "execute_result"
    }
   ],
   "source": [
    "y_resampled.value_counts()"
   ]
  },
  {
   "cell_type": "code",
   "execution_count": 23,
   "metadata": {},
   "outputs": [],
   "source": [
    "X_train, X_test, y_train, y_test = train_test_split(X_resampled, y_resampled, test_size=0.3, random_state=0)"
   ]
  },
  {
   "cell_type": "markdown",
   "metadata": {},
   "source": [
    "### Feature Scaling"
   ]
  },
  {
   "cell_type": "code",
   "execution_count": 24,
   "metadata": {},
   "outputs": [],
   "source": [
    "sc = StandardScaler()\n",
    "X_train = sc.fit_transform(X_train)\n",
    "X_test = sc.transform(X_test)"
   ]
  },
  {
   "cell_type": "markdown",
   "metadata": {},
   "source": [
    "## Logistic Regression"
   ]
  },
  {
   "cell_type": "code",
   "execution_count": 25,
   "metadata": {},
   "outputs": [
    {
     "data": {
      "text/plain": [
       "OneVsRestClassifier(estimator=LogisticRegression(random_state=0))"
      ]
     },
     "execution_count": 25,
     "metadata": {},
     "output_type": "execute_result"
    }
   ],
   "source": [
    "log_reg = OneVsRestClassifier(LogisticRegression(random_state=0))\n",
    "log_reg.fit(X_train, y_train)"
   ]
  },
  {
   "cell_type": "code",
   "execution_count": 26,
   "metadata": {},
   "outputs": [],
   "source": [
    "# Predicting the test set results\n",
    "y_pred = log_reg.predict(X_test)"
   ]
  },
  {
   "cell_type": "code",
   "execution_count": 27,
   "metadata": {},
   "outputs": [
    {
     "name": "stdout",
     "output_type": "stream",
     "text": [
      "[[38336  3134  1593]\n",
      " [ 1268 41109   777]\n",
      " [ 1765   329 40670]]\n"
     ]
    }
   ],
   "source": [
    "labels = ['single phase', 'slug', 'stratified']\n",
    "cm = confusion_matrix(y_test, y_pred)\n",
    "print(cm)"
   ]
  },
  {
   "cell_type": "code",
   "execution_count": 28,
   "metadata": {},
   "outputs": [
    {
     "data": {
      "text/plain": [
       "<sklearn.metrics._plot.confusion_matrix.ConfusionMatrixDisplay at 0x7fcc0d4695b0>"
      ]
     },
     "execution_count": 28,
     "metadata": {},
     "output_type": "execute_result"
    },
    {
     "data": {
      "text/plain": [
       "<Figure size 360x360 with 0 Axes>"
      ]
     },
     "metadata": {},
     "output_type": "display_data"
    },
    {
     "data": {
      "image/png": "[encoded data removed]",
      "text/plain": [
       "<Figure size 432x288 with 2 Axes>"
      ]
     },
     "metadata": {
      "needs_background": "light"
     },
     "output_type": "display_data"
    }
   ],
   "source": [
    "plt.figure(figsize=(5,5))\n",
    "ax = ConfusionMatrixDisplay(cm, display_labels=labels)\n",
    "ax.plot()"
   ]
  },
  {
   "cell_type": "code",
   "execution_count": 29,
   "metadata": {},
   "outputs": [
    {
     "name": "stdout",
     "output_type": "stream",
     "text": [
      "              precision    recall  f1-score   support\n",
      "\n",
      "single phase       0.93      0.89      0.91     43063\n",
      "        slug       0.92      0.95      0.94     43154\n",
      "  stratified       0.94      0.95      0.95     42764\n",
      "\n",
      "    accuracy                           0.93    128981\n",
      "   macro avg       0.93      0.93      0.93    128981\n",
      "weighted avg       0.93      0.93      0.93    128981\n",
      "\n"
     ]
    }
   ],
   "source": [
    "print(classification_report(y_test, y_pred, target_names=labels))"
   ]
  },
  {
   "cell_type": "markdown",
   "metadata": {},
   "source": [
    "### Matthews Correlation Coefficient\n",
    "- measures the quality of the multi class classification. Takes into account true and false positive and negatives. \n",
    "- the output closer to +1 represents a perfect prediction"
   ]
  },
  {
   "cell_type": "code",
   "execution_count": 30,
   "metadata": {},
   "outputs": [
    {
     "data": {
      "text/plain": [
       "0.8970910679068204"
      ]
     },
     "execution_count": 30,
     "metadata": {},
     "output_type": "execute_result"
    }
   ],
   "source": [
    "matthews_corrcoef(y_test, y_pred)"
   ]
  },
  {
   "cell_type": "markdown",
   "metadata": {},
   "source": [
    "## SVM"
   ]
  },
  {
   "cell_type": "code",
   "execution_count": 31,
   "metadata": {},
   "outputs": [
    {
     "data": {
      "text/plain": [
       "OneVsRestClassifier(estimator=LinearSVC(random_state=0))"
      ]
     },
     "execution_count": 31,
     "metadata": {},
     "output_type": "execute_result"
    }
   ],
   "source": [
    "svc = OneVsRestClassifier(LinearSVC(random_state=0))\n",
    "svc.fit(X_train, y_train)"
   ]
  },
  {
   "cell_type": "code",
   "execution_count": 32,
   "metadata": {},
   "outputs": [],
   "source": [
    "# Predicting the test set results\n",
    "yhat = svc.predict(X_test)"
   ]
  },
  {
   "cell_type": "code",
   "execution_count": 33,
   "metadata": {},
   "outputs": [
    {
     "data": {
      "text/plain": [
       "array([[37097,  4021,  1945],\n",
       "       [ 1333, 41055,   766],\n",
       "       [ 1649,   381, 40734]])"
      ]
     },
     "execution_count": 33,
     "metadata": {},
     "output_type": "execute_result"
    }
   ],
   "source": [
    "cm_svm = confusion_matrix(y_test, yhat)\n",
    "cm_svm"
   ]
  },
  {
   "cell_type": "code",
   "execution_count": 34,
   "metadata": {},
   "outputs": [
    {
     "data": {
      "text/plain": [
       "<sklearn.metrics._plot.confusion_matrix.ConfusionMatrixDisplay at 0x7fcc0d348880>"
      ]
     },
     "execution_count": 34,
     "metadata": {},
     "output_type": "execute_result"
    },
    {
     "data": {
      "text/plain": [
       "<Figure size 360x360 with 0 Axes>"
      ]
     },
     "metadata": {},
     "output_type": "display_data"
    },
    {
     "data": {
      "image/png": "[encoded data removed]",
      "text/plain": [
       "<Figure size 432x288 with 2 Axes>"
      ]
     },
     "metadata": {
      "needs_background": "light"
     },
     "output_type": "display_data"
    }
   ],
   "source": [
    "plt.figure(figsize=(5,5))\n",
    "ax = ConfusionMatrixDisplay(cm_svm, display_labels=labels)\n",
    "ax.plot()"
   ]
  },
  {
   "cell_type": "code",
   "execution_count": 36,
   "metadata": {},
   "outputs": [
    {
     "name": "stdout",
     "output_type": "stream",
     "text": [
      "              precision    recall  f1-score   support\n",
      "\n",
      "single phase       0.93      0.86      0.89     43063\n",
      "        slug       0.90      0.95      0.93     43154\n",
      "  stratified       0.94      0.95      0.95     42764\n",
      "\n",
      "    accuracy                           0.92    128981\n",
      "   macro avg       0.92      0.92      0.92    128981\n",
      "weighted avg       0.92      0.92      0.92    128981\n",
      "\n"
     ]
    }
   ],
   "source": [
    "print(classification_report(y_test, yhat, target_names=labels))"
   ]
  },
  {
   "cell_type": "code",
   "execution_count": 37,
   "metadata": {},
   "outputs": [
    {
     "data": {
      "text/plain": [
       "0.8831824182848537"
      ]
     },
     "execution_count": 37,
     "metadata": {},
     "output_type": "execute_result"
    }
   ],
   "source": [
    "matthews_corrcoef(y_test, yhat)"
   ]
  },
  {
   "cell_type": "markdown",
   "metadata": {},
   "source": [
    "# Evaluation\n",
    "- looking at the Matthews correlation coefficient logistic regression is preffered by small margin."
   ]
  },
  {
   "cell_type": "code",
   "execution_count": null,
   "metadata": {},
   "outputs": [],
   "source": []
  }
 ],
 "metadata": {
  "kernelspec": {
   "display_name": "Python 3",
   "language": "python",
   "name": "python3"
  },
  "language_info": {
   "codemirror_mode": {
    "name": "ipython",
    "version": 3
   },
   "file_extension": ".py",
   "mimetype": "text/x-python",
   "name": "python",
   "nbconvert_exporter": "python",
   "pygments_lexer": "ipython3",
   "version": "3.8.5"
  }
 },
 "nbformat": 4,
 "nbformat_minor": 5
}
